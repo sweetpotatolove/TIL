{
 "cells": [
  {
   "cell_type": "code",
   "execution_count": null,
   "metadata": {
    "executionInfo": {
     "elapsed": 4538,
     "status": "ok",
     "timestamp": 1741835965200,
     "user": {
      "displayName": "김요셉",
      "userId": "06062161947263818974"
     },
     "user_tz": -540
    },
    "id": "h-dtPyG2T9cV"
   },
   "outputs": [],
   "source": [
    "import matplotlib.pyplot as plt\n",
    "import seaborn as sns"
   ]
  },
  {
   "cell_type": "code",
   "execution_count": null,
   "metadata": {
    "colab": {
     "base_uri": "https://localhost:8080/",
     "height": 718
    },
    "executionInfo": {
     "elapsed": 1285,
     "status": "ok",
     "timestamp": 1741835966500,
     "user": {
      "displayName": "김요셉",
      "userId": "06062161947263818974"
     },
     "user_tz": -540
    },
    "id": "ny9T-e5_T9Xs",
    "outputId": "b4271689-ae3f-4b26-c4a0-9e41af8f64ec"
   },
   "outputs": [],
   "source": [
    "# 임의 표본 추출과 표본 평균 비교\n",
    "# Seaborn의 penguins 데이터셋을 불러오고 결측값 제거\n",
    "penguins = sns.load_dataset(\"penguins\").dropna()\n",
    "\n",
    "# 모집단의 몸무게(body_mass_g) 평균을 계산\n",
    "population_mean = penguins[\"body_mass_g\"].mean()\n",
    "\n",
    "# 30개씩 랜덤 샘플을 1000번 추출하여 표본 평균을 구함\n",
    "sample_means = [penguins[\"body_mass_g\"].sample(30, replace=True).mean() for _ in range(1000)]\n",
    "\n",
    "# 표본 평균의 분포를 시각화\n",
    "plt.figure(figsize=(8, 5))\n",
    "sns.histplot(sample_means, kde=True, bins=30, color='blue', label='Sample Means')\n",
    "plt.axvline(population_mean, color='red', linestyle='dashed', linewidth=2, label='Population Mean')  # 모집단 평균 표시\n",
    "\n",
    "plt.legend()\n",
    "plt.title(\"Distribution of Sample Means vs Population Mean\")  # 그래프 제목 설정\n",
    "plt.show()\n"
   ]
  },
  {
   "cell_type": "code",
   "execution_count": null,
   "metadata": {},
   "outputs": [],
   "source": []
  }
 ],
 "metadata": {
  "colab": {
   "authorship_tag": "ABX9TyNwPVnpAtqEn5UFRqBi1Y4N",
   "provenance": []
  },
  "kernelspec": {
   "display_name": "ds",
   "language": "python",
   "name": "python3"
  },
  "language_info": {
   "codemirror_mode": {
    "name": "ipython",
    "version": 3
   },
   "file_extension": ".py",
   "mimetype": "text/x-python",
   "name": "python",
   "nbconvert_exporter": "python",
   "pygments_lexer": "ipython3",
   "version": "3.9.13"
  }
 },
 "nbformat": 4,
 "nbformat_minor": 0
}
