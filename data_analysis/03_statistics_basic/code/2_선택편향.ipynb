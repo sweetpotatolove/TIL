{
 "cells": [
  {
   "cell_type": "code",
   "execution_count": null,
   "metadata": {
    "executionInfo": {
     "elapsed": 4538,
     "status": "ok",
     "timestamp": 1741835965200,
     "user": {
      "displayName": "김요셉",
      "userId": "06062161947263818974"
     },
     "user_tz": -540
    },
    "id": "h-dtPyG2T9cV"
   },
   "outputs": [],
   "source": [
    "import matplotlib.pyplot as plt\n",
    "import seaborn as sns"
   ]
  },
  {
   "cell_type": "code",
   "execution_count": null,
   "metadata": {
    "colab": {
     "base_uri": "https://localhost:8080/",
     "height": 718
    },
    "executionInfo": {
     "elapsed": 1285,
     "status": "ok",
     "timestamp": 1741835966500,
     "user": {
      "displayName": "김요셉",
      "userId": "06062161947263818974"
     },
     "user_tz": -540
    },
    "id": "ny9T-e5_T9Xs",
    "outputId": "b4271689-ae3f-4b26-c4a0-9e41af8f64ec"
   },
   "outputs": [],
   "source": [
    "# Titanic 데이터셋을 불러오고 결측값 제거\n",
    "titanic = sns.load_dataset(\"titanic\").dropna()\n",
    "\n",
    "# 전체 승객의 평균 생존률 계산\n",
    "overall_survival_rate = titanic[\"survived\"].mean()\n",
    "\n",
    "# 각 등급별 생존률 계산\n",
    "survival_rates_by_class = titanic.groupby(\"class\", observed=False)[\"survived\"].mean()\n",
    "\n",
    "# 생존률 출력\n",
    "print(f\"Overall Survival Rate: {overall_survival_rate:.2f}\")\n",
    "print(survival_rates_by_class)\n",
    "\n",
    "# 시각화: 좌석 등급별 생존률 막대 그래프\n",
    "plt.figure(figsize=(8, 5))\n",
    "sns.barplot(\n",
    "    x=survival_rates_by_class.index,\n",
    "    y=survival_rates_by_class.values,\n",
    "    palette=\"coolwarm\"\n",
    ")\n",
    "plt.axhline(\n",
    "    overall_survival_rate,\n",
    "    color='black',\n",
    "    linestyle='dashed',\n",
    "    label=\"Overall Survival Rate\"\n",
    ")\n",
    "plt.title(\"Survival Rate by Class\")\n",
    "plt.ylabel(\"Survival Rate\")\n",
    "plt.legend()\n",
    "plt.show()\n"
   ]
  },
  {
   "cell_type": "code",
   "execution_count": null,
   "metadata": {},
   "outputs": [],
   "source": []
  }
 ],
 "metadata": {
  "colab": {
   "authorship_tag": "ABX9TyNwPVnpAtqEn5UFRqBi1Y4N",
   "provenance": []
  },
  "kernelspec": {
   "display_name": "ds",
   "language": "python",
   "name": "python3"
  },
  "language_info": {
   "codemirror_mode": {
    "name": "ipython",
    "version": 3
   },
   "file_extension": ".py",
   "mimetype": "text/x-python",
   "name": "python",
   "nbconvert_exporter": "python",
   "pygments_lexer": "ipython3",
   "version": "3.9.13"
  }
 },
 "nbformat": 4,
 "nbformat_minor": 0
}
