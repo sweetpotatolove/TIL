{
 "cells": [
  {
   "cell_type": "code",
   "execution_count": null,
   "metadata": {
    "id": "h-dtPyG2T9cV"
   },
   "outputs": [],
   "source": [
    "import numpy as np\n",
    "import matplotlib.pyplot as plt\n",
    "import seaborn as sns"
   ]
  },
  {
   "cell_type": "code",
   "execution_count": null,
   "metadata": {
    "colab": {
     "base_uri": "https://localhost:8080/",
     "height": 755
    },
    "executionInfo": {
     "elapsed": 1019,
     "status": "ok",
     "timestamp": 1741835295991,
     "user": {
      "displayName": "김요셉",
      "userId": "06062161947263818974"
     },
     "user_tz": -540
    },
    "id": "ny9T-e5_T9Xs",
    "outputId": "11f09c15-3377-4fb2-9f39-2035d459824f"
   },
   "outputs": [],
   "source": [
    "# 1. 샘플 추출 횟수 설정\n",
    "sample_size = 1000  # 표본을 1000번 추출할 예정\n",
    "\n",
    "# 2. 각 표본에서 평균을 계산하여 저장할 리스트 생성\n",
    "sample_means = [np.mean(np.random.exponential(scale=2, size=1000)) for _ in range(sample_size)]\n",
    "\n",
    "\"\"\"\n",
    "- np.random.exponential(scale=2, size=5) : 평균이 2인 지수 분포에서 크기가 5인 표본을 생성\n",
    "- np.mean(...) :  위에서 생성된 5개의 표본 데이터의 평균을 계산\n",
    "- 이 과정을 1000번 반복하여 sample_means 리스트에 저장\n",
    "\"\"\"\n",
    "\n",
    "# 3. 그래프 크기 설정\n",
    "plt.figure(figsize=(12, 8))  # 가로 12, 세로 8 크기의 그래프 설정\n",
    "\n",
    "# 4. 샘플 평균의 히스토그램을 그림\n",
    "sns.histplot(sample_means, kde=True, color='skyblue')\n",
    "\n",
    "\"\"\"\n",
    "- sample_means 데이터를 히스토그램 형태로 시각화\n",
    "- kde=True 옵션을 주면 커널 밀도 추정(KDE) 곡선을 추가하여 분포 형태를 부드럽게 보여줌\n",
    "- color='skyblue'로 그래프 색상을 하늘색으로 지정\n",
    "\"\"\"\n",
    "\n",
    "# 5. 그래프 제목 및 축 레이블 설정\n",
    "plt.title('Central Limit Theorem: Distribution of Sample Means')  # 그래프 제목\n",
    "plt.xlabel('Sample Mean')  # X축 라벨 (표본 평균 값)\n",
    "plt.ylabel('Frequency')  # Y축 라벨 (빈도수)\n",
    "\n",
    "# 6. 그래프 출력\n",
    "plt.show()  # 그래프를 화면에 표시\n",
    "\n",
    "\"\"\"\n",
    "이 그래프는 중심극한정리(Central Limit Theorem, CLT)를 확인하는 예제.\n",
    "- 원래 지수 분포는 비대칭적이지만, 여러 번 표본을 뽑아 평균을 구하면 정규 분포에 가까운 모양이 됨.\n",
    "- 표본 크기(size=5)는 작지만, 그래도 평균들의 분포가 종 모양을 띄는 걸 확인할 수 있음.\n",
    "- 만약 size 값을 더 크게 하면 정규분포 형태가 더욱 명확해짐.\n",
    "\"\"\""
   ]
  }
 ],
 "metadata": {
  "colab": {
   "authorship_tag": "ABX9TyN0ebv7WuIxtZl52hwVsQ8S",
   "provenance": []
  },
  "kernelspec": {
   "display_name": "ds",
   "language": "python",
   "name": "python3"
  },
  "language_info": {
   "codemirror_mode": {
    "name": "ipython",
    "version": 3
   },
   "file_extension": ".py",
   "mimetype": "text/x-python",
   "name": "python",
   "nbconvert_exporter": "python",
   "pygments_lexer": "ipython3",
   "version": "3.9.13"
  }
 },
 "nbformat": 4,
 "nbformat_minor": 0
}
