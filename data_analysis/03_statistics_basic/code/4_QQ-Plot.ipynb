{
 "cells": [
  {
   "cell_type": "code",
   "execution_count": null,
   "metadata": {
    "executionInfo": {
     "elapsed": 40,
     "status": "ok",
     "timestamp": 1741837916078,
     "user": {
      "displayName": "김요셉",
      "userId": "06062161947263818974"
     },
     "user_tz": -540
    },
    "id": "h-dtPyG2T9cV"
   },
   "outputs": [],
   "source": [
    "import numpy as np\n",
    "import matplotlib.pyplot as plt\n",
    "import scipy.stats as stats"
   ]
  },
  {
   "cell_type": "code",
   "execution_count": null,
   "metadata": {
    "colab": {
     "base_uri": "https://localhost:8080/",
     "height": 718
    },
    "executionInfo": {
     "elapsed": 294,
     "status": "ok",
     "timestamp": 1741837916650,
     "user": {
      "displayName": "김요셉",
      "userId": "06062161947263818974"
     },
     "user_tz": -540
    },
    "id": "ny9T-e5_T9Xs",
    "outputId": "0ffde846-f599-456b-8793-b9ed73159f01"
   },
   "outputs": [],
   "source": [
    "# 1. 정규 분포를 따르는 랜덤한 데이터 생성\n",
    "data_normal = np.random.normal(loc=0, scale=1, size=1000)\n",
    "\n",
    "\"\"\"\n",
    "- np.random.normal(loc=0, scale=1, size=1000)\n",
    "  → 평균(loc=0)이고 표준편차(scale=1)인 정규 분포에서 랜덤한 숫자 1000개 생성\n",
    "  → 즉, 평균이 0이고 표준편차가 1인 정규 분포를 따르는 데이터 1000개를 생성\n",
    "\"\"\"\n",
    "\n",
    "# 2. 그래프 크기 설정\n",
    "plt.figure(figsize=(12, 8))  # 그래프 크기를 가로 12, 세로 8로 설정\n",
    "\n",
    "# 3. QQ 플롯(QQ Plot) 생성\n",
    "stats.probplot(data_normal, dist=\"norm\", plot=plt)\n",
    "\n",
    "\"\"\"\n",
    "- stats.probplot(data_normal, dist=\"norm\", plot=plt)\n",
    "  → data_normal 데이터가 정규 분포(\"norm\")를 따르는지 시각적으로 확인하는 QQ 플롯을 그림\n",
    "\n",
    "- QQ 플롯(QQ Plot, Quantile-Quantile Plot)이란?\n",
    "  → \"데이터가 특정 분포(여기선 정규 분포)를 따르는지를 판단하는 그래프\"\n",
    "  → X축: 정규 분포의 이론적인 분위(Quantile) 값\n",
    "  → Y축: 실제 데이터 분위 값\n",
    "  → 데이터가 정규 분포를 따른다면, 점들이 직선 형태(대각선)로 정렬됨\n",
    "\"\"\"\n",
    "\n",
    "# 4. 그래프 제목 설정\n",
    "plt.title('QQ Plot for Normal Distribution')\n",
    "\n",
    "# 5. 그래프 출력\n",
    "plt.show()  # 그래프를 화면에 출력\n",
    "\n",
    "\"\"\"\n",
    "QQ 플롯(Quantile-Quantile Plot)이 하는 일:\n",
    "- 데이터가 특정 분포(정규 분포)를 따르는지 검증할 때 사용됨.\n",
    "- 만약 데이터가 정규 분포를 따른다면, QQ 플롯의 점들이 대각선 직선 형태로 정렬됨.\n",
    "- 데이터가 정규 분포에서 벗어난다면, 점들이 직선에서 크게 벗어나는 모양을 보임.\n",
    "- 즉, 정규성 검정을 위한 좋은 시각화 도구임.\n",
    "\"\"\""
   ]
  }
 ],
 "metadata": {
  "colab": {
   "authorship_tag": "ABX9TyMfl8EqYXOZWa5WrPr4SeQw",
   "provenance": []
  },
  "kernelspec": {
   "display_name": "ds",
   "language": "python",
   "name": "python3"
  },
  "language_info": {
   "codemirror_mode": {
    "name": "ipython",
    "version": 3
   },
   "file_extension": ".py",
   "mimetype": "text/x-python",
   "name": "python",
   "nbconvert_exporter": "python",
   "pygments_lexer": "ipython3",
   "version": "3.9.13"
  }
 },
 "nbformat": 4,
 "nbformat_minor": 0
}
