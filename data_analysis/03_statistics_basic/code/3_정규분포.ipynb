{
 "cells": [
  {
   "cell_type": "code",
   "execution_count": null,
   "metadata": {
    "executionInfo": {
     "elapsed": 4538,
     "status": "ok",
     "timestamp": 1741835965200,
     "user": {
      "displayName": "김요셉",
      "userId": "06062161947263818974"
     },
     "user_tz": -540
    },
    "id": "h-dtPyG2T9cV"
   },
   "outputs": [],
   "source": [
    "import numpy as np\n",
    "import matplotlib.pyplot as plt\n",
    "import seaborn as sns"
   ]
  },
  {
   "cell_type": "code",
   "execution_count": null,
   "metadata": {
    "colab": {
     "base_uri": "https://localhost:8080/",
     "height": 718
    },
    "executionInfo": {
     "elapsed": 1285,
     "status": "ok",
     "timestamp": 1741835966500,
     "user": {
      "displayName": "김요셉",
      "userId": "06062161947263818974"
     },
     "user_tz": -540
    },
    "id": "ny9T-e5_T9Xs",
    "outputId": "b4271689-ae3f-4b26-c4a0-9e41af8f64ec"
   },
   "outputs": [],
   "source": [
    "# 1. 정규 분포를 따르는 랜덤한 데이터 생성\n",
    "data_normal = np.random.normal(loc=0, scale=1, size=1000)\n",
    "\n",
    "\"\"\"\n",
    "- np.random.normal(loc=0, scale=1, size=1000)\n",
    "  → 평균(loc=0)이고 표준편차(scale=1)인 정규 분포에서 랜덤한 숫자 1000개 생성\n",
    "즉, 평균이 0이고 표준편차가 1인 정규 분포를 따르는 데이터 1000개를 생성하는 코드.\n",
    "\"\"\"\n",
    "\n",
    "# 2. 그래프 크기 설정\n",
    "plt.figure(figsize=(12, 8))  # 가로 12, 세로 8 크기의 그래프 설정\n",
    "\n",
    "# 3. 히스토그램을 통해 데이터 분포 시각화\n",
    "sns.histplot(data_normal, kde=True, color='lightgreen')\n",
    "\n",
    "\"\"\"\n",
    "- data_normal 데이터를 히스토그램(histogram)으로 표현 (막대그래프 형태)\n",
    "- kde=True: 부드러운 확률 밀도 함수(Kernel Density Estimation, KDE) 곡선을 추가\n",
    "  (정규 분포의 모양을 더 잘 볼 수 있도록 해줌)\n",
    "- color='lightgreen': 그래프 색상을 연두색(lightgreen)으로 설정\n",
    "\"\"\"\n",
    "\n",
    "# 4. 그래프 제목 및 축 라벨 설정\n",
    "plt.title('Normal Distribution')  # 그래프 제목 설정\n",
    "plt.xlabel('Value')  # X축 라벨 (데이터 값)\n",
    "plt.ylabel('Frequency')  # Y축 라벨 (빈도수)\n",
    "\n",
    "# 5. 그래프 출력\n",
    "plt.show()  # 그래프를 화면에 출력\n",
    "\n",
    "\"\"\"\n",
    "이 그래프는 정규 분포(Normal Distribution) 의 예시를 보여줌.\n",
    "\n",
    "- 평균이 0이고 표준편차가 1인 정규 분포에서 생성된 데이터 1000개의 분포를 나타냄.\n",
    "- 히스토그램(막대그래프)은 실제 데이터의 빈도를 보여줌.\n",
    "- KDE 커브(부드러운 선)는 이 데이터가 정규 분포를 따른다는 것을 더 명확하게 표현해 줌.\n",
    "- 정규 분포는 평균을 중심으로 대칭적인 종 모양(Bell curve)을 갖는 특징이 있음.\n",
    "\"\"\""
   ]
  },
  {
   "cell_type": "code",
   "execution_count": null,
   "metadata": {},
   "outputs": [],
   "source": []
  }
 ],
 "metadata": {
  "colab": {
   "authorship_tag": "ABX9TyNwPVnpAtqEn5UFRqBi1Y4N",
   "provenance": []
  },
  "kernelspec": {
   "display_name": "ds",
   "language": "python",
   "name": "python3"
  },
  "language_info": {
   "codemirror_mode": {
    "name": "ipython",
    "version": 3
   },
   "file_extension": ".py",
   "mimetype": "text/x-python",
   "name": "python",
   "nbconvert_exporter": "python",
   "pygments_lexer": "ipython3",
   "version": "3.9.13"
  }
 },
 "nbformat": 4,
 "nbformat_minor": 0
}
