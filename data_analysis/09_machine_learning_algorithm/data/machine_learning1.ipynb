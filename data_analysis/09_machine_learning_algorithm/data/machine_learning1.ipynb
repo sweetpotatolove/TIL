{
 "cells": [
  {
   "cell_type": "markdown",
   "metadata": {},
   "source": [
    "## 행렬과 선형변환"
   ]
  },
  {
   "cell_type": "code",
   "execution_count": 1,
   "metadata": {},
   "outputs": [
    {
     "name": "stdout",
     "output_type": "stream",
     "text": [
      "[[1 2]\n",
      " [3 4]]\n"
     ]
    }
   ],
   "source": [
    "import numpy as np\n",
    "\n",
    "A = np.array([[1, 2], [3, 4]])\n",
    "print(A)"
   ]
  },
  {
   "cell_type": "code",
   "execution_count": 2,
   "metadata": {},
   "outputs": [
    {
     "name": "stdout",
     "output_type": "stream",
     "text": [
      "[[ 6  8]\n",
      " [10 12]]\n",
      "==================================================\n",
      "[[2 4]\n",
      " [6 8]]\n"
     ]
    }
   ],
   "source": [
    "import numpy as np\n",
    "\n",
    "A = np.array([[1, 2], [3, 4]])  # 2x2 행렬\n",
    "B = np.array([[5, 6], [7, 8]])  # 2x2 행렬\n",
    "\n",
    "C = A + B  # 행렬 덧셈\n",
    "D = 2 * A  # 스칼라 곱\n",
    "\n",
    "print(C)\n",
    "print(\"=\" * 50)\n",
    "print(D)"
   ]
  },
  {
   "cell_type": "code",
   "execution_count": 3,
   "metadata": {},
   "outputs": [
    {
     "name": "stdout",
     "output_type": "stream",
     "text": [
      "[[ 58  64]\n",
      " [139 154]]\n"
     ]
    }
   ],
   "source": [
    "import numpy as np\n",
    "\n",
    "A = np.array([[1, 2, 3], [4, 5, 6]])\n",
    "B = np.array([[7, 8], [9, 10], [11, 12]])\n",
    "\n",
    "C = np.dot(A, B)  # 행렬 곱\n",
    "print(C)"
   ]
  },
  {
   "cell_type": "code",
   "execution_count": 4,
   "metadata": {},
   "outputs": [
    {
     "name": "stdout",
     "output_type": "stream",
     "text": [
      "원래 행렬 A:\n",
      "[[1 2 3]\n",
      " [4 5 6]]\n",
      "\n",
      "전치 행렬 A^T:\n",
      "[[1 4]\n",
      " [2 5]\n",
      " [3 6]]\n"
     ]
    }
   ],
   "source": [
    "import numpy as np\n",
    "\n",
    "# 원래 행렬 A (2x3)\n",
    "A = np.array([[1, 2, 3],\n",
    "              [4, 5, 6]])\n",
    "\n",
    "# 전치 행렬 A^T (3x2)\n",
    "A_T = A.transpose()\n",
    "\n",
    "print(\"원래 행렬 A:\")\n",
    "print(A)\n",
    "print(\"\\n전치 행렬 A^T:\")\n",
    "print(A_T)\n"
   ]
  },
  {
   "cell_type": "code",
   "execution_count": 5,
   "metadata": {},
   "outputs": [
    {
     "name": "stdout",
     "output_type": "stream",
     "text": [
      "[6 8]\n"
     ]
    }
   ],
   "source": [
    "import numpy as np\n",
    "\n",
    "A = np.array([[2, 0], [0, 2]])\n",
    "v = np.array([3, 4])\n",
    "\n",
    "result = np.dot(A, v)\n",
    "print(result)\n"
   ]
  },
  {
   "cell_type": "markdown",
   "metadata": {},
   "source": [
    "## 회귀"
   ]
  },
  {
   "cell_type": "code",
   "execution_count": 8,
   "metadata": {},
   "outputs": [
    {
     "name": "stdout",
     "output_type": "stream",
     "text": [
      "Mean Squared Error (MSE): 1.30\n",
      "R² Score: 0.0107\n"
     ]
    }
   ],
   "source": [
    "# 필수 라이브러리 불러오기\n",
    "from sklearn.model_selection import train_test_split\n",
    "from sklearn.linear_model import LinearRegression\n",
    "from sklearn.metrics import mean_squared_error, r2_score\n",
    "from sklearn.datasets import fetch_california_housing\n",
    "import pandas as pd\n",
    "\n",
    "# 캘리포니아 주택 가격 데이터셋 로드\n",
    "data = fetch_california_housing()\n",
    "X = pd.DataFrame(data.data, columns=data.feature_names)  # 독립 변수(특징 데이터)\n",
    "y = data.target  # 종속 변수 (중간 주택 가격)\n",
    "\n",
    "# 주택 크기(House Size) 특성만 선택\n",
    "X_house_size = X[['HouseAge']]\n",
    "\n",
    "# 데이터를 학습용 및 테스트용 데이터로 분할\n",
    "X_train, X_test, y_train, y_test = train_test_split(\n",
    "    X_house_size, y, test_size=0.3, random_state=42\n",
    ")\n",
    "\n",
    "# 선형 회귀 모델 학습\n",
    "model = LinearRegression()\n",
    "model.fit(X_train, y_train)\n",
    "\n",
    "# 예측 수행\n",
    "y_pred = model.predict(X_test)\n",
    "\n",
    "# 모델 평가\n",
    "mse = mean_squared_error(y_test, y_pred)  # 평균 제곱 오차 계산\n",
    "r2 = r2_score(y_test, y_pred)  # 결정 계수(R²) 계산\n",
    "\n",
    "# 결과 출력\n",
    "print(f\"Mean Squared Error (MSE): {mse:.2f}\")\n",
    "print(f\"R² Score: {r2:.4f}\")"
   ]
  },
  {
   "cell_type": "code",
   "execution_count": 9,
   "metadata": {},
   "outputs": [
    {
     "name": "stdout",
     "output_type": "stream",
     "text": [
      "Mean Squared Error (MSE): 0.53\n",
      "R² Score: 0.5958\n"
     ]
    }
   ],
   "source": [
    "# 필요한 라이브러리 임포트\n",
    "from sklearn.model_selection import train_test_split\n",
    "from sklearn.linear_model import LinearRegression\n",
    "from sklearn.metrics import mean_squared_error, r2_score\n",
    "from sklearn.datasets import fetch_california_housing\n",
    "import pandas as pd\n",
    "import matplotlib.pyplot as plt\n",
    "\n",
    "# 캘리포니아 주택 가격 데이터셋 로드\n",
    "data = fetch_california_housing()\n",
    "X = pd.DataFrame(data.data, columns=data.feature_names)  # 특성 데이터\n",
    "y = data.target  # 목표 변수 (중간 주택 가격)\n",
    "\n",
    "# 데이터를 학습용 및 테스트용으로 분할\n",
    "X_train, X_test, y_train, y_test = train_test_split(X, y, test_size=0.3, random_state=42)\n",
    "\n",
    "# 선형 회귀 모델 학습\n",
    "model = LinearRegression()\n",
    "model.fit(X_train, y_train)\n",
    "\n",
    "# 예측 수행\n",
    "y_pred = model.predict(X_test)\n",
    "\n",
    "# 모델 평가\n",
    "mse = mean_squared_error(y_test, y_pred)  # 평균 제곱 오차 계산\n",
    "r2 = r2_score(y_test, y_pred)  # 결정 계수(R²) 계산\n",
    "\n",
    "# 결과 출력\n",
    "print(f\"Mean Squared Error (MSE): {mse:.2f}\")\n",
    "print(f\"R² Score: {r2:.4f}\")\n"
   ]
  },
  {
   "cell_type": "code",
   "execution_count": 10,
   "metadata": {},
   "outputs": [
    {
     "name": "stdout",
     "output_type": "stream",
     "text": [
      "Mean Squared Error (MSE): 1.25\n",
      "R² Score: 0.0502\n"
     ]
    }
   ],
   "source": [
    "# 필요한 라이브러리 임포트\n",
    "from sklearn.model_selection import train_test_split\n",
    "from sklearn.preprocessing import PolynomialFeatures\n",
    "from sklearn.linear_model import LinearRegression\n",
    "from sklearn.metrics import mean_squared_error, r2_score\n",
    "from sklearn.datasets import fetch_california_housing\n",
    "import pandas as pd\n",
    "import numpy as np\n",
    "import matplotlib.pyplot as plt\n",
    "\n",
    "# 캘리포니아 주택 가격 데이터셋 로드\n",
    "data = fetch_california_housing()\n",
    "df = pd.DataFrame(data.data, columns=data.feature_names)  # 데이터를 DataFrame으로 변환\n",
    "df[\"MedHouseVal\"] = data.target  # 목표 변수(주택 가격) 추가\n",
    "\n",
    "# 특정 특성 선택 (가구당 평균 방 개수)\n",
    "X = df[[\"AveRooms\"]]  # 독립 변수(특징)\n",
    "y = df[\"MedHouseVal\"]  # 종속 변수(주택 가격)\n",
    "\n",
    "# 데이터를 학습용 및 테스트용으로 분할\n",
    "X_train, X_test, y_train, y_test = train_test_split(X, y, test_size=0.3, random_state=42)\n",
    "\n",
    "# 다항 특성 변환 (차수=2)\n",
    "poly = PolynomialFeatures(degree=2)  # X를 [1, X, X^2] 형태로 변환\n",
    "X_train_poly = poly.fit_transform(X_train)\n",
    "X_test_poly = poly.transform(X_test)\n",
    "\n",
    "# 다항 회귀 모델 학습\n",
    "model = LinearRegression()\n",
    "model.fit(X_train_poly, y_train)\n",
    "\n",
    "# 예측 수행\n",
    "y_pred = model.predict(X_test_poly)\n",
    "\n",
    "# 모델 평가\n",
    "mse = mean_squared_error(y_test, y_pred)  # 평균 제곱 오차 계산\n",
    "r2 = r2_score(y_test, y_pred)  # 결정 계수(R²) 계산\n",
    "\n",
    "# 결과 출력\n",
    "print(f\"Mean Squared Error (MSE): {mse:.2f}\")\n",
    "print(f\"R² Score: {r2:.4f}\")"
   ]
  },
  {
   "cell_type": "markdown",
   "metadata": {},
   "source": [
    "## 나이브베이즈 분류"
   ]
  },
  {
   "cell_type": "code",
   "execution_count": 11,
   "metadata": {},
   "outputs": [
    {
     "data": {
      "text/plain": [
       "{'P(스팸 | 당첨, 무료, 혜택)': 0.014222222222222223,\n",
       " 'P(정상 | 당첨, 무료, 혜택)': 0.00045,\n",
       " '결론': '스팸 메일'}"
      ]
     },
     "execution_count": 11,
     "metadata": {},
     "output_type": "execute_result"
    }
   ],
   "source": [
    "# 전체 이메일 중 40%가 스팸\n",
    "# 전체 이메일 중 60%가 정상 메일 \n",
    "# 사전 확률 (Prior)\n",
    "P_spam = 0.4  # 스팸 메일 확률\n",
    "P_ham = 0.6   # 정상 메일 확률\n",
    "\n",
    "# 단어별 조건부 확률 (각 단어가 특정한 메일에 포함될 확률)\n",
    "# 예제 단어 (스팸 단어: \"당첨\", \"무료\", \"혜택\", 정상 단어: \"회의\", \"보고서\", \"협조\")\n",
    "# ex) 당첨이 스팸 메일에서 등장할 확률이 12/30\n",
    "P_당첨_given_spam = 12 / 30\n",
    "P_무료_given_spam = 10 / 30\n",
    "P_혜택_given_spam = 8 / 30\n",
    "\n",
    "P_당첨_given_ham = 2 / 20\n",
    "P_무료_given_ham = 3 / 20\n",
    "P_혜택_given_ham = 1 / 20\n",
    "\n",
    "# 특정 이메일이 \"당첨\", \"무료\", \"혜택\"을 포함할 경우 확률 계산\n",
    "P_words_given_spam = P_당첨_given_spam * P_무료_given_spam * P_혜택_given_spam\n",
    "P_words_given_ham = P_당첨_given_ham * P_무료_given_ham * P_혜택_given_ham\n",
    "\n",
    "# 최종 확률 계산 (Posterior)\n",
    "P_spam_given_words = P_words_given_spam * P_spam\n",
    "P_ham_given_words = P_words_given_ham * P_ham\n",
    "\n",
    "# 결과 출력\n",
    "{\n",
    "    \"P(스팸 | 당첨, 무료, 혜택)\": P_spam_given_words,\n",
    "    \"P(정상 | 당첨, 무료, 혜택)\": P_ham_given_words,\n",
    "    \"결론\": \"정상 메일\" if P_ham_given_words > P_spam_given_words else \"스팸 메일\"\n",
    "}\n"
   ]
  },
  {
   "cell_type": "markdown",
   "metadata": {},
   "source": [
    "## 분류"
   ]
  },
  {
   "cell_type": "code",
   "execution_count": 12,
   "metadata": {},
   "outputs": [
    {
     "name": "stdout",
     "output_type": "stream",
     "text": [
      "Accuracy: 100.00%\n"
     ]
    }
   ],
   "source": [
    "# 필요한 라이브러리 임포트\n",
    "from sklearn.linear_model import LogisticRegression\n",
    "from sklearn.metrics import accuracy_score\n",
    "from sklearn.datasets import load_iris\n",
    "from sklearn.model_selection import train_test_split\n",
    "\n",
    "# 데이터셋 로드 (Iris 데이터셋 사용)\n",
    "data = load_iris()\n",
    "X = data.data  # 특성 데이터\n",
    "y = data.target  # 목표 변수 (클래스 레이블)\n",
    "\n",
    "# 데이터를 학습용 및 테스트용으로 분할\n",
    "X_train, X_test, y_train, y_test = train_test_split(X, y, test_size=0.3, random_state=42)\n",
    "\n",
    "# 로지스틱 회귀 모델 학습\n",
    "model = LogisticRegression(max_iter=200)\n",
    "model.fit(X_train, y_train)\n",
    "\n",
    "# 예측 수행\n",
    "y_pred = model.predict(X_test)\n",
    "\n",
    "# 모델 평가\n",
    "accuracy = accuracy_score(y_test, y_pred)  # 정확도 계산\n",
    "\n",
    "# 결과 출력\n",
    "print(f\"Accuracy: {accuracy * 100:.2f}%\")"
   ]
  },
  {
   "cell_type": "code",
   "execution_count": 13,
   "metadata": {},
   "outputs": [
    {
     "name": "stdout",
     "output_type": "stream",
     "text": [
      "Accuracy: 100.00%\n"
     ]
    }
   ],
   "source": [
    "# 필요한 라이브러리 임포트\n",
    "from sklearn.model_selection import train_test_split\n",
    "from sklearn.neighbors import KNeighborsClassifier\n",
    "from sklearn.metrics import accuracy_score\n",
    "from sklearn.datasets import load_iris\n",
    "\n",
    "# 데이터셋 로드 (Iris 데이터셋 사용)\n",
    "data = load_iris()\n",
    "X = data.data  # 특성 데이터\n",
    "y = data.target  # 목표 변수 (클래스 레이블)\n",
    "\n",
    "# 데이터를 학습용 및 테스트용으로 분할\n",
    "X_train, X_test, y_train, y_test = train_test_split(X, y, test_size=0.3, random_state=42)\n",
    "\n",
    "# KNN 모델 학습 (K=5로 설정)\n",
    "model = KNeighborsClassifier(n_neighbors=5)\n",
    "model.fit(X_train, y_train)\n",
    "\n",
    "# 예측 수행\n",
    "y_pred = model.predict(X_test)\n",
    "\n",
    "# 모델 평가\n",
    "accuracy = accuracy_score(y_test, y_pred)  # 정확도 계산\n",
    "\n",
    "# 결과 출력\n",
    "print(f\"Accuracy: {accuracy * 100:.2f}%\")"
   ]
  },
  {
   "cell_type": "code",
   "execution_count": 14,
   "metadata": {},
   "outputs": [
    {
     "name": "stdout",
     "output_type": "stream",
     "text": [
      "Accuracy: 100.00%\n"
     ]
    }
   ],
   "source": [
    "# 필요한 라이브러리 임포트\n",
    "from sklearn.tree import DecisionTreeClassifier\n",
    "from sklearn.metrics import accuracy_score\n",
    "from sklearn.datasets import load_iris\n",
    "from sklearn.model_selection import train_test_split\n",
    "\n",
    "# 데이터셋 로드 (Iris 데이터셋 사용)\n",
    "data = load_iris()\n",
    "X = data.data  # 특성 데이터\n",
    "y = data.target  # 목표 변수 (클래스 레이블)\n",
    "\n",
    "# 데이터를 학습용 및 테스트용으로 분할\n",
    "X_train, X_test, y_train, y_test = train_test_split(X, y, test_size=0.3, random_state=42)\n",
    "\n",
    "# 결정트리 모델 학습\n",
    "model = DecisionTreeClassifier(random_state=42)  # 결정트리 모델 생성\n",
    "model.fit(X_train, y_train)\n",
    "\n",
    "# 예측 수행\n",
    "y_pred = model.predict(X_test)\n",
    "\n",
    "# 모델 평가\n",
    "accuracy = accuracy_score(y_test, y_pred)  # 정확도 계산\n",
    "\n",
    "# 결과 출력\n",
    "print(f\"Accuracy: {accuracy * 100:.2f}%\")\n"
   ]
  }
 ],
 "metadata": {
  "kernelspec": {
   "display_name": "Python 3",
   "language": "python",
   "name": "python3"
  },
  "language_info": {
   "codemirror_mode": {
    "name": "ipython",
    "version": 3
   },
   "file_extension": ".py",
   "mimetype": "text/x-python",
   "name": "python",
   "nbconvert_exporter": "python",
   "pygments_lexer": "ipython3",
   "version": "3.9.13"
  }
 },
 "nbformat": 4,
 "nbformat_minor": 2
}
