{
 "cells": [
  {
   "cell_type": "code",
   "execution_count": 3,
   "metadata": {},
   "outputs": [
    {
     "name": "stdout",
     "output_type": "stream",
     "text": [
      "Levene’s test p-value: 0.2991\n",
      "Welch’s t-test: t-statistic = -2.2674, p-value = 0.0273\n",
      "두 그룹의 평균 차이가 유의미함 (귀무가설 기각)\n"
     ]
    }
   ],
   "source": [
    "import numpy as np\n",
    "import scipy.stats as stats\n",
    "\n",
    "# 랜덤 데이터 생성\n",
    "np.random.seed(1)\n",
    "group1 = np.random.normal(loc=50, scale=10, size=30)  # 평균 50, 표준편차 10\n",
    "group2 = np.random.normal(loc=55, scale=15, size=30)  # 평균 55, 표준편차 15 (이분산)\n",
    "\n",
    "# Levene’s test로 등분산 확인\n",
    "levene_test = stats.levene(group1, group2)\n",
    "print(f\"Levene’s test p-value: {levene_test.pvalue:.4f}\")\n",
    "\n",
    "# Welch’s t-test 수행 (equal_var=False)\n",
    "t_stat, p_value = stats.ttest_ind(group1, group2, equal_var=False)\n",
    "print(f\"Welch’s t-test: t-statistic = {t_stat:.4f}, p-value = {p_value:.4f}\")\n",
    "\n",
    "if p_value < 0.05:\n",
    "    print(\"두 그룹의 평균 차이가 유의미함 (귀무가설 기각)\")\n",
    "else:\n",
    "    print(\"두 그룹의 평균 차이가 유의미하지 않음 (귀무가설 유지)\")\n"
   ]
  },
  {
   "cell_type": "code",
   "execution_count": null,
   "metadata": {},
   "outputs": [],
   "source": []
  }
 ],
 "metadata": {
  "accelerator": "GPU",
  "colab": {
   "authorship_tag": "ABX9TyMsOkTCapH5UcKa6ne5t0Ll",
   "gpuType": "T4",
   "provenance": []
  },
  "kernelspec": {
   "display_name": "lecture_code-OR4jHJxs",
   "language": "python",
   "name": "python3"
  },
  "language_info": {
   "codemirror_mode": {
    "name": "ipython",
    "version": 3
   },
   "file_extension": ".py",
   "mimetype": "text/x-python",
   "name": "python",
   "nbconvert_exporter": "python",
   "pygments_lexer": "ipython3",
   "version": "3.9.13"
  }
 },
 "nbformat": 4,
 "nbformat_minor": 0
}
