{
 "cells": [
  {
   "cell_type": "markdown",
   "metadata": {
    "id": "6VpoU-E5oOFK"
   },
   "source": [
    "목표 : A구와 B구의 승용차 이용률 평균을 비교하여 유의미한 차이가 있는지 검정"
   ]
  },
  {
   "cell_type": "code",
   "execution_count": 1,
   "metadata": {},
   "outputs": [
    {
     "data": {
      "image/png": "[encoded data removed]",
      "text/plain": [
       "<Figure size 800x500 with 1 Axes>"
      ]
     },
     "metadata": {},
     "output_type": "display_data"
    }
   ],
   "source": [
    "import numpy as np\n",
    "import pandas as pd\n",
    "import scipy.stats as stats\n",
    "import matplotlib.pyplot as plt\n",
    "import seaborn as sns\n",
    "\n",
    "plt.rcParams['font.family'] = 'Malgun Gothic'\n",
    "\n",
    "\n",
    "# 마이너스 부호 깨짐 방지\n",
    "plt.rcParams['axes.unicode_minus'] = False\n",
    "\n",
    "# 랜덤 시드 설정\n",
    "np.random.seed(42)\n",
    "\n",
    "# A구와 B구의 승용차 이용률 데이터 생성\n",
    "a_district = np.random.normal(loc=35, scale=5, size=30)  # A구 (평균 35%, 표준편차 5%)\n",
    "b_district = np.random.normal(loc=40, scale=5, size=30)  # B구 (평균 40%, 표준편차 5%)\n",
    "\n",
    "# 데이터프레임 생성\n",
    "df = pd.DataFrame({'승용차 이용률': np.concatenate([a_district, b_district]),\n",
    "                   '자치구': ['A구'] * 30 + ['B구'] * 30})\n",
    "\n",
    "# 데이터 시각화 (박스플롯)\n",
    "plt.figure(figsize=(8, 5))\n",
    "sns.boxplot(x='자치구', y='승용차 이용률', data=df)\n",
    "plt.title(\"A구 vs B구 승용차 이용률 비교\")\n",
    "plt.show()\n"
   ]
  },
  {
   "cell_type": "code",
   "execution_count": 2,
   "metadata": {},
   "outputs": [
    {
     "name": "stdout",
     "output_type": "stream",
     "text": [
      "Shapiro-Wilk test (A구): p-value = 0.6868\n",
      "Shapiro-Wilk test (B구): p-value = 0.9130\n",
      "두 그룹 모두 정규성을 만족함\n"
     ]
    }
   ],
   "source": [
    "# 정규성 검정 수행 (Shapiro-Wilk Test)\n",
    "shapiro_a = stats.shapiro(a_district)\n",
    "shapiro_b = stats.shapiro(b_district)\n",
    "\n",
    "print(f\"Shapiro-Wilk test (A구): p-value = {shapiro_a.pvalue:.4f}\")\n",
    "print(f\"Shapiro-Wilk test (B구): p-value = {shapiro_b.pvalue:.4f}\")\n",
    "\n",
    "# 정규성 판정\n",
    "if shapiro_a.pvalue > 0.05 and shapiro_b.pvalue > 0.05:\n",
    "    print(\"두 그룹 모두 정규성을 만족함\")\n",
    "else:\n",
    "    print(\"정규성이 만족되지 않음, 비모수 검정 필요\")\n"
   ]
  },
  {
   "cell_type": "code",
   "execution_count": 4,
   "metadata": {},
   "outputs": [
    {
     "name": "stdout",
     "output_type": "stream",
     "text": [
      "Shapiro-Wilk test (A구): p-value = 0.6868\n",
      "Shapiro-Wilk test (B구): p-value = 0.9130\n",
      "Levene’s test: p-value = 0.6223\n"
     ]
    }
   ],
   "source": [
    "# 등분산 검정 (Levene’s Test)\n",
    "levene_test = stats.levene(a_district, b_district)\n",
    "\n",
    "# 결과 출력\n",
    "print(f\"Shapiro-Wilk test (A구): p-value = {shapiro_a.pvalue:.4f}\")\n",
    "print(f\"Shapiro-Wilk test (B구): p-value = {shapiro_b.pvalue:.4f}\")\n",
    "print(f\"Levene’s test: p-value = {levene_test.pvalue:.4f}\")"
   ]
  },
  {
   "cell_type": "code",
   "execution_count": 6,
   "metadata": {},
   "outputs": [
    {
     "name": "stdout",
     "output_type": "stream",
     "text": [
      "등분산을 가정한 독립표본 t-검정 수행\n",
      "t-통계량 = -4.5129, p-value = 0.0000\n",
      "두 집단의 평균 차이가 유의미함 (귀무가설 기각)\n"
     ]
    }
   ],
   "source": [
    "# t-검정 수행 (등분산 여부에 따라 결정)\n",
    "if levene_test.pvalue > 0.05:\n",
    "    print(\"등분산을 가정한 독립표본 t-검정 수행\")\n",
    "    t_stat, p_value = stats.ttest_ind(a_district, b_district, equal_var=True)\n",
    "else:\n",
    "    print(\"등분산을 가정하지 않는 Welch’s t-test 수행\")\n",
    "    t_stat, p_value = stats.ttest_ind(a_district, b_district, equal_var=False)\n",
    "\n",
    "print(f\"t-통계량 = {t_stat:.4f}, p-value = {p_value:.4f}\")\n",
    "\n",
    "# 결과 해석\n",
    "if p_value < 0.05:\n",
    "    print(\"두 집단의 평균 차이가 유의미함 (귀무가설 기각)\")\n",
    "else:\n",
    "    print(\"두 집단의 평균 차이가 유의미하지 않음 (귀무가설 유지)\")\n"
   ]
  },
  {
   "cell_type": "code",
   "execution_count": null,
   "metadata": {},
   "outputs": [],
   "source": []
  }
 ],
 "metadata": {
  "accelerator": "GPU",
  "colab": {
   "authorship_tag": "ABX9TyMsOkTCapH5UcKa6ne5t0Ll",
   "gpuType": "T4",
   "provenance": []
  },
  "kernelspec": {
   "display_name": "lecture_code-OR4jHJxs",
   "language": "python",
   "name": "python3"
  },
  "language_info": {
   "codemirror_mode": {
    "name": "ipython",
    "version": 3
   },
   "file_extension": ".py",
   "mimetype": "text/x-python",
   "name": "python",
   "nbconvert_exporter": "python",
   "pygments_lexer": "ipython3",
   "version": "3.9.13"
  }
 },
 "nbformat": 4,
 "nbformat_minor": 0
}
