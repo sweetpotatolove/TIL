{
 "cells": [
  {
   "cell_type": "markdown",
   "metadata": {
    "id": "6VpoU-E5oOFK"
   },
   "source": [
    "목표 : 교통 정책 시행 전후, 같은 도로에서 승용차 평균 속도가 유의미하게 변화했는지 검정"
   ]
  },
  {
   "cell_type": "code",
   "execution_count": null,
   "metadata": {},
   "outputs": [
    {
     "data": {
      "image/png": "[encoded data removed]",
      "text/plain": [
       "<Figure size 800x500 with 1 Axes>"
      ]
     },
     "metadata": {},
     "output_type": "display_data"
    }
   ],
   "source": [
    "import numpy as np\n",
    "import pandas as pd\n",
    "import scipy.stats as stats\n",
    "import matplotlib.pyplot as plt\n",
    "import seaborn as sns\n",
    "plt.rcParams['font.family'] = 'Malgun Gothic'\n",
    "\n",
    "\n",
    "# 랜덤 시드 설정\n",
    "np.random.seed(42)\n",
    "\n",
    "# 정책 시행 전후의 평균 속도 데이터 생성\n",
    "before_policy = np.random.normal(loc=50, scale=5, size=30)  # 시행 전 평균 속도 50km/h\n",
    "after_policy = before_policy + np.random.normal(loc=-3, scale=2, size=30)  # 시행 후 속도 감소\n",
    "\n",
    "# 데이터프레임 생성\n",
    "df_paired = pd.DataFrame({'속도': np.concatenate([before_policy, after_policy]),\n",
    "                          '시점': ['정책 시행 전'] * 30 + ['정책 시행 후'] * 30})\n",
    "\n",
    "# 박스플롯 시각화\n",
    "plt.figure(figsize=(8, 5))\n",
    "sns.boxplot(x='시점', y='속도', data=df_paired)\n",
    "plt.title(\"정책 시행 전후 승용차 속도 비교\")\n",
    "plt.show()\n"
   ]
  },
  {
   "cell_type": "code",
   "execution_count": 5,
   "metadata": {},
   "outputs": [
    {
     "name": "stdout",
     "output_type": "stream",
     "text": [
      "Shapiro-Wilk test (정책 시행 전): p-value = 0.6868\n",
      "Shapiro-Wilk test (정책 시행 후): p-value = 0.7563\n",
      "두 그룹 모두 정규성을 만족함\n"
     ]
    }
   ],
   "source": [
    "# 정규성 검정 수행 (Shapiro-Wilk Test)\n",
    "shapiro_before = stats.shapiro(before_policy)\n",
    "shapiro_after = stats.shapiro(after_policy)\n",
    "\n",
    "print(f\"Shapiro-Wilk test (정책 시행 전): p-value = {shapiro_before.pvalue:.4f}\")\n",
    "print(f\"Shapiro-Wilk test (정책 시행 후): p-value = {shapiro_after.pvalue:.4f}\")\n",
    "\n",
    "if shapiro_before.pvalue > 0.05 and shapiro_after.pvalue > 0.05:\n",
    "    print(\"두 그룹 모두 정규성을 만족함\")\n",
    "else:\n",
    "    print(\"정규성이 만족되지 않음, 비모수 검정 필요\")\n"
   ]
  },
  {
   "cell_type": "code",
   "execution_count": 6,
   "metadata": {},
   "outputs": [
    {
     "name": "stdout",
     "output_type": "stream",
     "text": [
      "t-통계량 = 9.5365, p-value = 0.0000\n",
      "정책 시행 전후 속도 차이가 유의미함 (귀무가설 기각)\n"
     ]
    }
   ],
   "source": [
    "# 대응표본 t-검정 수행\n",
    "t_stat, p_value = stats.ttest_rel(before_policy, after_policy)\n",
    "\n",
    "print(f\"t-통계량 = {t_stat:.4f}, p-value = {p_value:.4f}\")\n",
    "\n",
    "# 결과 해석\n",
    "if p_value < 0.05:\n",
    "    print(\"정책 시행 전후 속도 차이가 유의미함 (귀무가설 기각)\")\n",
    "else:\n",
    "    print(\"정책 시행 전후 속도 차이가 유의미하지 않음 (귀무가설 유지)\")\n"
   ]
  }
 ],
 "metadata": {
  "accelerator": "GPU",
  "colab": {
   "authorship_tag": "ABX9TyMsOkTCapH5UcKa6ne5t0Ll",
   "gpuType": "T4",
   "provenance": []
  },
  "kernelspec": {
   "display_name": "Python 3",
   "name": "python3"
  },
  "language_info": {
   "codemirror_mode": {
    "name": "ipython",
    "version": 3
   },
   "file_extension": ".py",
   "mimetype": "text/x-python",
   "name": "python",
   "nbconvert_exporter": "python",
   "pygments_lexer": "ipython3",
   "version": "3.12.7"
  }
 },
 "nbformat": 4,
 "nbformat_minor": 0
}
