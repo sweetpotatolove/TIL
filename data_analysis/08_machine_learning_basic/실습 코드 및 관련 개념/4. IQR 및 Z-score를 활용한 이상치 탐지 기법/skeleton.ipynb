{
 "cells": [
  {
   "cell_type": "code",
   "execution_count": 1,
   "id": "982fae90",
   "metadata": {},
   "outputs": [],
   "source": [
    "import pandas as pd\n",
    "import numpy as np\n",
    "from scipy import stats"
   ]
  },
  {
   "cell_type": "code",
   "execution_count": 2,
   "id": "386afbdd",
   "metadata": {},
   "outputs": [],
   "source": [
    "# 1. 교통 데이터 생성\n",
    "data = pd.DataFrame({\n",
    "    'Trip ID': [1, 2, 3, 4, 5, 6],  # 각 트립(여행)의 고유 ID\n",
    "    'Distance (km)': [5, 20, 50, 200, 15, 30],  # 이동 거리 (km)\n",
    "    'Duration (hours)': [0.2, 0.5, 1, 3, 0.3, 0.8]  # 이동 시간 (시간 단위)\n",
    "})"
   ]
  },
  {
   "cell_type": "code",
   "execution_count": 3,
   "id": "56ab8412",
   "metadata": {},
   "outputs": [],
   "source": [
    "# 2. 평균 속도 계산 (km/h)\n",
    "# 평균 속도 = 이동 거리(km) / 이동 시간(시간)\n",
    "data['Speed (km/h)'] = data['Distance (km)']/data['Duration (hours)']"
   ]
  },
  {
   "cell_type": "code",
   "execution_count": 4,
   "id": "2d87d642",
   "metadata": {},
   "outputs": [],
   "source": [
    "# 3. IQR 기반 이상치 탐지\n",
    "# IQR(Interquartile Range)은 사분위수를 이용하여 이상치를 판별하는 방법\n",
    "Q1 = data['Speed (km/h)'].quantile(0.25)  # 1사분위수 (25%)\n",
    "Q3 = data['Speed (km/h)'].quantile(0.75) # 3사분위수 (75%)\n",
    "IQR = Q3 - Q1  # IQR 계산"
   ]
  },
  {
   "cell_type": "code",
   "execution_count": 5,
   "id": "ffee3f8d",
   "metadata": {},
   "outputs": [],
   "source": [
    "# 이상치 기준 설정\n",
    "lower_bound = Q1 - 1.5 * IQR  # 하한값\n",
    "upper_bound = Q3 + 1.5 * IQR  # 상한값"
   ]
  },
  {
   "cell_type": "code",
   "execution_count": 6,
   "id": "8e343d26",
   "metadata": {},
   "outputs": [],
   "source": [
    "# IQR 기준 이상치 여부 판별 (이상치면 True, 정상치면 False)\n",
    "data['IQR Outlier'] = (data['Speed (km/h)'] < lower_bound) | (data['Speed (km/h)'] > upper_bound)\n"
   ]
  },
  {
   "cell_type": "code",
   "execution_count": 7,
   "id": "752d128b",
   "metadata": {},
   "outputs": [],
   "source": [
    "# 4. Z-score 기반 이상치 탐지\n",
    "# Z-score는 평균과 표준편차를 이용하여 데이터가 정규분포에서 얼마나 벗어났는지 측정\n",
    "data['Z-score'] = stats.zscore(data['Speed (km/h)'])  # Z-score 계산\n",
    "\n",
    "# 일반적으로 Z-score가 ±3 이상이면 이상치로 간주\n",
    "data['Z-score Outlier'] = (abs(data['Z-score']) > 3)"
   ]
  },
  {
   "cell_type": "code",
   "execution_count": 8,
   "id": "a5dbd04c",
   "metadata": {},
   "outputs": [
    {
     "name": "stdout",
     "output_type": "stream",
     "text": [
      "이상치 탐지 결과:\n",
      "   Trip ID  Speed (km/h)  IQR Outlier  Z-score Outlier\n",
      "0        1     25.000000        False            False\n",
      "1        2     40.000000        False            False\n",
      "2        3     50.000000        False            False\n",
      "3        4     66.666667        False            False\n",
      "4        5     50.000000        False            False\n",
      "5        6     37.500000        False            False\n"
     ]
    }
   ],
   "source": [
    "# 5. 결과 출력\n",
    "print(\"이상치 탐지 결과:\")\n",
    "print(data[['Trip ID', 'Speed (km/h)', 'IQR Outlier', 'Z-score Outlier']])"
   ]
  }
 ],
 "metadata": {
  "kernelspec": {
   "display_name": "Python 3",
   "language": "python",
   "name": "python3"
  },
  "language_info": {
   "codemirror_mode": {
    "name": "ipython",
    "version": 3
   },
   "file_extension": ".py",
   "mimetype": "text/x-python",
   "name": "python",
   "nbconvert_exporter": "python",
   "pygments_lexer": "ipython3",
   "version": "3.11.9"
  }
 },
 "nbformat": 4,
 "nbformat_minor": 5
}
