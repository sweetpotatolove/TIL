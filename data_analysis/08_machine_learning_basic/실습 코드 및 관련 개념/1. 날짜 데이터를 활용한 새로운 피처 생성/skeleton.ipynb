{
 "cells": [
  {
   "cell_type": "code",
   "execution_count": 1,
   "id": "589fbce1",
   "metadata": {},
   "outputs": [],
   "source": [
    "import pandas as pd"
   ]
  },
  {
   "cell_type": "code",
   "execution_count": 2,
   "id": "4e17a008",
   "metadata": {},
   "outputs": [],
   "source": [
    "# 1. 교통 데이터 생성\n",
    "data = pd.DataFrame({\n",
    "    'Trip ID': [1, 2, 3, 4, 5],  # 각 트립(여행)의 고유 ID\n",
    "    'Date': pd.date_range(start='2023-03-01', periods=5, freq='D')  # 2023년 3월 1일부터 5일간 날짜 생성\n",
    "})"
   ]
  },
  {
   "cell_type": "code",
   "execution_count": 3,
   "id": "078df911",
   "metadata": {},
   "outputs": [],
   "source": [
    "# 2. 요일(day of the week) 컬럼 추가\n",
    "# pandas의 dt.dayofweek 속성을 사용하여 요일 정보를 숫자로 변환\n",
    "# 0: 월요일, 1: 화요일, ..., 5: 토요일, 6: 일요일\n",
    "data['Day of Week'] = data['Date'].dt.dayofweek"
   ]
  },
  {
   "cell_type": "code",
   "execution_count": 4,
   "id": "dc4ba96c",
   "metadata": {},
   "outputs": [
    {
     "name": "stdout",
     "output_type": "stream",
     "text": [
      "   Trip ID       Date  Day of Week  Is Weekend\n",
      "0        1 2023-03-01            2           0\n",
      "1        2 2023-03-02            3           0\n",
      "2        3 2023-03-03            4           0\n",
      "3        4 2023-03-04            5           1\n",
      "4        5 2023-03-05            6           1\n"
     ]
    }
   ],
   "source": [
    "# 3. 주말 여부(토요일=5, 일요일=6)를 기준으로 주말이면 1, 평일이면 0으로 설정\n",
    "# apply() 함수를 사용하여 각 요일 값에 대해 주말 여부를 판별\n",
    "data['Is Weekend'] = data['Day of Week'].apply(lambda d: 1 if d in (5, 6) else 0)\n",
    "\n",
    "print(data)"
   ]
  }
 ],
 "metadata": {
  "kernelspec": {
   "display_name": "Python 3",
   "language": "python",
   "name": "python3"
  },
  "language_info": {
   "codemirror_mode": {
    "name": "ipython",
    "version": 3
   },
   "file_extension": ".py",
   "mimetype": "text/x-python",
   "name": "python",
   "nbconvert_exporter": "python",
   "pygments_lexer": "ipython3",
   "version": "3.11.9"
  }
 },
 "nbformat": 4,
 "nbformat_minor": 5
}
