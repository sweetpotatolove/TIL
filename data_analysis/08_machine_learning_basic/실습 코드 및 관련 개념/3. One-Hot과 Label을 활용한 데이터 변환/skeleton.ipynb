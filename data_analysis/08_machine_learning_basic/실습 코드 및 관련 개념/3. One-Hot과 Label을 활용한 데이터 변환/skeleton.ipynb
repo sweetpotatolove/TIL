{
 "cells": [
  {
   "cell_type": "code",
   "execution_count": 1,
   "id": "98b9dac8",
   "metadata": {},
   "outputs": [],
   "source": [
    "import pandas as pd\n",
    "from sklearn.preprocessing import LabelEncoder"
   ]
  },
  {
   "cell_type": "code",
   "execution_count": 2,
   "id": "7e002676",
   "metadata": {},
   "outputs": [],
   "source": [
    "# 1. 교통 데이터 생성\n",
    "data = pd.DataFrame({\n",
    "    'Trip ID': [1, 2, 3, 4, 5],  # 각 트립(여행)의 고유 ID\n",
    "    'Vehicle Type': ['Sedan', 'SUV', 'Truck', 'Sedan', 'SUV'],  # 차량 유형\n",
    "    'Destination From': ['A', 'B', 'C', 'A', 'B'],  # 출발지\n",
    "    'Destination To': ['X', 'Y', 'Z', 'X', 'Y']  # 도착지\n",
    "})"
   ]
  },
  {
   "cell_type": "code",
   "execution_count": 3,
   "id": "6913628d",
   "metadata": {},
   "outputs": [],
   "source": [
    "# 2. One-Hot Encoding (Vehicle Type 컬럼 변환)\n",
    "# One-Hot Encoding은 범주형(문자형) 데이터를 0과 1로 변환하여 모델이 이해할 수 있도록 하는 기법\n",
    "# pandas의 get_dummies() 함수를 사용하여 'Vehicle Type' 컬럼을 One-Hot Encoding 방식으로 변환\n",
    "# get_dummies() 함수는 문자열 데이터를 여러 개의 컬럼으로 변환하여, 해당 값이면 1, 아니면 0으로 표시함\n",
    "# 예: 'Sedan' -> [1, 0, 0], 'SUV' -> [0, 1, 0], 'Truck' -> [0, 0, 1]\n",
    "data_encoded = pd.get_dummies(data, columns=['Vehicle Type'], prefix='Type')"
   ]
  },
  {
   "cell_type": "code",
   "execution_count": 5,
   "id": "12b948b8",
   "metadata": {},
   "outputs": [],
   "source": [
    "# 3. Label Encoding (출발지 및 도착지 컬럼 변환)\n",
    "# Label Encoding은 범주형 데이터를 정수 값(0, 1, 2 등)으로 변환하는 기법\n",
    "# 각 고유한 문자열 값을 고유한 숫자로 변환하여 저장함\n",
    "# 예: 'A' -> 0, 'B' -> 1, 'C' -> 2\n",
    "\n",
    "# LabelEncoder 객체 생성\n",
    "label_encoder = LabelEncoder()\n",
    "\n",
    "# 'Destination From' 컬럼을 라벨 인코딩하여 변환\n",
    "data_encoded['Destination From'] = label_encoder.fit_transform(data_encoded['Destination From'])\n",
    "\n",
    "# 'Destination To' 컬럼을 라벨 인코딩하여 변환\n",
    "data_encoded['Destination To'] = label_encoder.fit_transform(data_encoded['Destination To'])\n"
   ]
  },
  {
   "cell_type": "code",
   "execution_count": 6,
   "id": "4ded4e04",
   "metadata": {},
   "outputs": [
    {
     "name": "stdout",
     "output_type": "stream",
     "text": [
      "   Trip ID  Destination From  Destination To  Type_SUV  Type_Sedan  Type_Truck\n",
      "0        1                 0               0     False        True       False\n",
      "1        2                 1               1      True       False       False\n",
      "2        3                 2               2     False       False        True\n",
      "3        4                 0               0     False        True       False\n",
      "4        5                 1               1      True       False       False\n"
     ]
    }
   ],
   "source": [
    "# 결과 출력\n",
    "print(data_encoded)\n"
   ]
  }
 ],
 "metadata": {
  "kernelspec": {
   "display_name": "Python 3",
   "language": "python",
   "name": "python3"
  },
  "language_info": {
   "codemirror_mode": {
    "name": "ipython",
    "version": 3
   },
   "file_extension": ".py",
   "mimetype": "text/x-python",
   "name": "python",
   "nbconvert_exporter": "python",
   "pygments_lexer": "ipython3",
   "version": "3.11.9"
  }
 },
 "nbformat": 4,
 "nbformat_minor": 5
}
