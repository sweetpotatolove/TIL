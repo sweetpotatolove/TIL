{
 "cells": [
  {
   "cell_type": "code",
   "execution_count": 1,
   "id": "73780137",
   "metadata": {},
   "outputs": [],
   "source": [
    "from sklearn.metrics import mean_absolute_error, mean_squared_error, r2_score\n",
    "import numpy as np"
   ]
  },
  {
   "cell_type": "code",
   "execution_count": 2,
   "id": "6995229f",
   "metadata": {},
   "outputs": [],
   "source": [
    "# 1. 실제값(y_true)과 예측값(y_pred) 생성\n",
    "# 주택 가격 예측 모델의 실제 주택 가격과 모델이 예측한 값을 비교하여 평가합니다.\n",
    "y_true = [3.0, -0.5, 2.0, 7.0]   # 실제 값 (Ground Truth)\n",
    "y_pred = [2.5, 0.0, 2.0, 8.0]    # 모델이 예측한 값 (Predicted Values)\n"
   ]
  },
  {
   "cell_type": "code",
   "execution_count": 3,
   "id": "b88d6370",
   "metadata": {},
   "outputs": [],
   "source": [
    "# 2. 평균 절대 오차 (MAE) 계산\n",
    "# MAE는 실제 값과 예측 값의 차이의 절댓값 평균을 구합니다.\n",
    "mae = mean_absolute_error(y_true, y_pred)  "
   ]
  },
  {
   "cell_type": "code",
   "execution_count": 4,
   "id": "b12778a0",
   "metadata": {},
   "outputs": [],
   "source": [
    "# 3. 평균 제곱 오차 (MSE) 계산\n",
    "# MSE는 실제 값과 예측 값의 차이를 제곱한 뒤 평균을 구합니다.\n",
    "mse = mean_squared_error(y_true, y_pred)  "
   ]
  },
  {
   "cell_type": "code",
   "execution_count": 5,
   "id": "abcc8777",
   "metadata": {},
   "outputs": [],
   "source": [
    "# 4. 평균 제곱근 오차 (RMSE) 계산\n",
    "# RMSE는 MSE에 루트를 씌워서 오차의 단위를 맞추고 왜곡을 줄입니다.\n",
    "rmse = np.sqrt(mse)  "
   ]
  },
  {
   "cell_type": "code",
   "execution_count": 6,
   "id": "0780b052",
   "metadata": {},
   "outputs": [],
   "source": [
    "# 5. 결정계수 (R² Score) 계산\n",
    "# R² Score는 모델이 실제 데이터의 변동성을 얼마나 설명하는지를 나타냅니다.\n",
    "r2 = r2_score(y_true, y_pred)  "
   ]
  },
  {
   "cell_type": "code",
   "execution_count": 7,
   "id": "4c3036ed",
   "metadata": {},
   "outputs": [
    {
     "name": "stdout",
     "output_type": "stream",
     "text": [
      "평균 절대 오차 (MAE): 0.50\n",
      "평균 제곱 오차 (MSE): 0.38\n",
      "평균 제곱근 오차 (RMSE): 0.61\n",
      "결정계수 (R² Score): 0.95\n"
     ]
    }
   ],
   "source": [
    "# 6. 결과 출력\n",
    "print(\"평균 절대 오차 (MAE): {:.2f}\".format(mae))  \n",
    "print(\"평균 제곱 오차 (MSE): {:.2f}\".format(mse))  \n",
    "print(\"평균 제곱근 오차 (RMSE): {:.2f}\".format(rmse))  \n",
    "print(\"결정계수 (R² Score): {:.2f}\".format(r2))  "
   ]
  }
 ],
 "metadata": {
  "kernelspec": {
   "display_name": "Python 3",
   "language": "python",
   "name": "python3"
  },
  "language_info": {
   "codemirror_mode": {
    "name": "ipython",
    "version": 3
   },
   "file_extension": ".py",
   "mimetype": "text/x-python",
   "name": "python",
   "nbconvert_exporter": "python",
   "pygments_lexer": "ipython3",
   "version": "3.11.9"
  }
 },
 "nbformat": 4,
 "nbformat_minor": 5
}
