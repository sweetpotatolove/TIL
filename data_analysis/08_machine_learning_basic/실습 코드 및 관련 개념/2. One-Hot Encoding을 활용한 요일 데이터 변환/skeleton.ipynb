{
 "cells": [
  {
   "cell_type": "code",
   "execution_count": 1,
   "id": "ede4bf3c",
   "metadata": {},
   "outputs": [],
   "source": [
    "import pandas as pd"
   ]
  },
  {
   "cell_type": "code",
   "execution_count": 2,
   "id": "bb63ca02",
   "metadata": {},
   "outputs": [],
   "source": [
    "# 1. 교통 데이터 생성\n",
    "data = pd.DataFrame({\n",
    "    'Trip ID': [1, 2, 3, 4, 5],  # 각 트립(여행)의 고유 ID\n",
    "    'Date': pd.date_range(start='2023-03-01', periods=5, freq='D')  # 2023년 3월 1일부터 5일간 날짜 생성\n",
    "})\n"
   ]
  },
  {
   "cell_type": "code",
   "execution_count": 3,
   "id": "7c19a6c0",
   "metadata": {},
   "outputs": [],
   "source": [
    "# 2. 요일(day of the week) 컬럼 추가\n",
    "# pandas의 dt.dayofweek 속성을 사용하여 요일 정보를 숫자로 변환\n",
    "# 0: 월요일, 1: 화요일, ..., 5: 토요일, 6: 일요일\n",
    "data['Day of Week'] = data['Date'].dt.dayofweek  "
   ]
  },
  {
   "cell_type": "code",
   "execution_count": 4,
   "id": "5d68f5ca",
   "metadata": {},
   "outputs": [],
   "source": [
    "# 3. One-Hot Encoding 적용 (get_dummies() 사용하지 않고 구현)\n",
    "# 0부터 6까지 요일(월~일)에 대한 개별 컬럼을 생성하여 0으로 초기화\n",
    "for i in range(7):  # 요일은 0~6까지 존재 (월~일)\n",
    "    data[f'Day_{i}'] = data['Day of Week'].apply(lambda x: 1 if x == i else 0)  # 해당 요일이면 1, 아니면 0\n"
   ]
  },
  {
   "cell_type": "code",
   "execution_count": 5,
   "id": "58a0269f",
   "metadata": {},
   "outputs": [
    {
     "name": "stdout",
     "output_type": "stream",
     "text": [
      "   Trip ID       Date  Day_0  Day_1  Day_2  Day_3  Day_4  Day_5  Day_6\n",
      "0        1 2023-03-01      0      0      1      0      0      0      0\n",
      "1        2 2023-03-02      0      0      0      1      0      0      0\n",
      "2        3 2023-03-03      0      0      0      0      1      0      0\n",
      "3        4 2023-03-04      0      0      0      0      0      1      0\n",
      "4        5 2023-03-05      0      0      0      0      0      0      1\n"
     ]
    }
   ],
   "source": [
    "# 4. 'Day of Week' 컬럼 삭제 (One-Hot Encoding 후 필요 없으므로 제거)\n",
    "data = data.drop(columns='Day of Week')\n",
    "\n",
    "print(data)\n"
   ]
  },
  {
   "cell_type": "code",
   "execution_count": null,
   "id": "5eac7a5a",
   "metadata": {},
   "outputs": [],
   "source": []
  }
 ],
 "metadata": {
  "kernelspec": {
   "display_name": "Python 3",
   "language": "python",
   "name": "python3"
  },
  "language_info": {
   "codemirror_mode": {
    "name": "ipython",
    "version": 3
   },
   "file_extension": ".py",
   "mimetype": "text/x-python",
   "name": "python",
   "nbconvert_exporter": "python",
   "pygments_lexer": "ipython3",
   "version": "3.11.9"
  }
 },
 "nbformat": 4,
 "nbformat_minor": 5
}
