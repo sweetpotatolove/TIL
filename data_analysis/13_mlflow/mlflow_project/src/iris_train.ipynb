{
 "cells": [
  {
   "cell_type": "code",
   "execution_count": null,
   "metadata": {},
   "outputs": [],
   "source": [
    "import mlflow\n",
    "from mlflow.models import infer_signature\n",
    "\n",
    "import pandas as pd\n",
    "from sklearn import datasets\n",
    "from sklearn.model_selection import train_test_split\n",
    "from sklearn.linear_model import LogisticRegression\n",
    "from sklearn.metrics import accuracy_score, precision_score, recall_score, f1_score\n",
    "\n",
    "\n",
    "# Iris dataset 불러오기\n",
    "X, y = datasets.load_iris(return_X_y=True)\n",
    "\n",
    "# Train, Test 데이터셋 분할\n",
    "X_train, X_test, y_train, y_test = train_test_split(\n",
    "    X, y, test_size=0.2, random_state=42\n",
    ")\n",
    "\n",
    "# 모델 하이퍼파라미터 정의\n",
    "params = {\n",
    "    \"solver\": \"lbfgs\",\n",
    "    \"max_iter\": 1000,\n",
    "    \"multi_class\": \"auto\",\n",
    "    \"random_state\": 8888,\n",
    "}\n",
    "\n",
    "# 모델 학습\n",
    "lr = LogisticRegression(**params)\n",
    "lr.fit(X_train, y_train)\n",
    "\n",
    "# test 데이터셋 Predict\n",
    "y_pred = lr.predict(X_test)\n",
    "\n",
    "# Metrics 계산\n",
    "accuracy = accuracy_score(y_test, y_pred)"
   ]
  },
  {
   "cell_type": "code",
   "execution_count": null,
   "metadata": {},
   "outputs": [],
   "source": [
    "# Tracking Server 설정\n",
    "mlflow.set_tracking_uri(uri=\"http://127.0.0.1:5000\") # 환경 변수를 설정했지만, 확실하게 설정\n",
    "\n",
    "# 새로운 MLFlow 실험을 생성\n",
    "mlflow.set_experiment(\"MLflow Quickstart\")\n",
    "\n",
    "# MLflow 실험 시작\n",
    "with mlflow.start_run():\n",
    "    # 하이퍼파라미터 로그\n",
    "    mlflow.log_params(params)\n",
    "\n",
    "    # loss, metric 로그\n",
    "    mlflow.log_metric(\"accuracy\", accuracy)\n",
    "\n",
    "    # 태그 설정 (실행에 메모 남기기)\n",
    "    mlflow.set_tag(\"Training Info\", \"Basic LR model for iris data\")\n",
    "\n",
    "    # 입출력 형태 추론\n",
    "    signature = infer_signature(X_train, lr.predict(X_train))\n",
    "\n",
    "    # 모델 로그\n",
    "    model_info = mlflow.sklearn.log_model(\n",
    "        sk_model=lr,\n",
    "        artifact_path=\"iris_model\",\n",
    "        signature=signature,\n",
    "        input_example=X_train,\n",
    "        registered_model_name=\"tracking-quickstart\",\n",
    "    )"
   ]
  },
  {
   "cell_type": "code",
   "execution_count": null,
   "metadata": {},
   "outputs": [],
   "source": [
    "# 예측을 위해 일반 Python 함수 모델(pyfunc)로 모델을 다시 불러옵니다.\n",
    "loaded_model = mlflow.pyfunc.load_model(model_info.model_uri)\n",
    "\n",
    "predictions = loaded_model.predict(X_test)\n",
    "\n",
    "iris_feature_names = datasets.load_iris().feature_names\n",
    "\n",
    "result = pd.DataFrame(X_test, columns=iris_feature_names)\n",
    "result[\"actual_class\"] = y_test\n",
    "result[\"predicted_class\"] = predictions\n",
    "\n",
    "result[:4]"
   ]
  },
  {
   "cell_type": "code",
   "execution_count": null,
   "metadata": {},
   "outputs": [],
   "source": []
  }
 ],
 "metadata": {
  "kernelspec": {
   "display_name": "mlflow_env",
   "language": "python",
   "name": "python3"
  },
  "language_info": {
   "codemirror_mode": {
    "name": "ipython",
    "version": 3
   },
   "file_extension": ".py",
   "mimetype": "text/x-python",
   "name": "python",
   "nbconvert_exporter": "python",
   "pygments_lexer": "ipython3",
   "version": "3.11.9"
  }
 },
 "nbformat": 4,
 "nbformat_minor": 2
}
