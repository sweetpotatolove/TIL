{
  "cells": [
    {
      "cell_type": "markdown",
      "metadata": {},
      "source": [
        "**스타트캠프 교육 자료 저작권 및 사용 제한 안내**\n",
        "- `스타트캠프 교육 자료의 모든 권리는 저작권자에게 있습니다.`\n",
        "- `이 자료는 동의없이 외부로 유출하거나 개인적인 용도로 영리적인 목적을 위해 사용할 수 없습니다.`"
      ]
    },
    {
      "cell_type": "markdown",
      "metadata": {
        "id": "IU0xfmeuPWEq"
      },
      "source": [
        "## GPT 4o-mini 버전 API 실습 [Tool 만들기]\n",
        "### Tool 기능이란?\n",
        "+ GPT 모델의 기본 언어 생성 기능 외에 특정 작업을 수행하기 위해 특별히 설계된 도구를 사용할 수 있도록 해주는 확장 기능. ex) 이미지 생성, 인터넷 검색, 파이썬 코드 실행 등\n",
        "+ GPT 모델은 특정 작업에 대해 더 정확하고 유용한 결과를 제공"
      ]
    },
    {
      "cell_type": "markdown",
      "metadata": {
        "id": "BO_18U8dQ7Wx"
      },
      "source": [
        "### 1. 실시간 기상 정보를 알려주는 chatbot 만들기\n",
        "+ 날씨 호출 tool 만들기\n"
      ]
    },
    {
      "cell_type": "code",
      "execution_count": 1,
      "metadata": {
        "colab": {
          "base_uri": "https://localhost:8080/"
        },
        "id": "tU6HQab8RS_b",
        "outputId": "adb321c7-c4ea-4b66-84d0-f40f37f26606"
      },
      "outputs": [],
      "source": [
        "# 필요 라이브러리 설치\n",
        "# !pip install openai\n",
        "\n",
        "#API-KEY 설정\n",
        "OPENAI_API_KEY = \"OPENAI_API_KEY\"\n",
        "GPT_MODEL = 'gpt-4o-mini'"
      ]
    },
    {
      "cell_type": "code",
      "execution_count": 2,
      "metadata": {
        "id": "pOUEmEydPB7Q"
      },
      "outputs": [],
      "source": [
        "import json\n",
        "from openai import OpenAI\n",
        "\n",
        "client = OpenAI(api_key=OPENAI_API_KEY)\n",
        "\n",
        "#GPT API호출 및 응답 가져오기\n",
        "def chat_completion_request(messages, tools=None, tool_choice=None, model=GPT_MODEL):\n",
        "    try:\n",
        "        response = client.chat.completions.create(\n",
        "            model=model,\n",
        "            messages=messages,\n",
        "            tools=tools,\n",
        "            tool_choice=tool_choice,\n",
        "        )\n",
        "        return response\n",
        "    except Exception as e:\n",
        "        print(\"Unable to generate ChatCompletion response\")\n",
        "        print(f\"Exception: {e}\")\n",
        "        return e\n"
      ]
    },
    {
      "cell_type": "code",
      "execution_count": null,
      "metadata": {
        "colab": {
          "base_uri": "https://localhost:8080/"
        },
        "id": "-sjlGY0zR-VC",
        "outputId": "04d99c62-9096-4cfe-fff7-f901a73c9089"
      },
      "outputs": [],
      "source": [
        "#Tool 선언\n",
        "tools = [\n",
        "    {\n",
        "        \"type\": \"function\",\n",
        "        \"function\": {\n",
        "            \"name\": \"get_current_weather\",                #함수 이름\n",
        "            \"description\": \"현재 날씨 정보를 가져옵니다\", #함수 설명\n",
        "            \"parameters\": {                               #함수 파라미터 지정\n",
        "                \"type\": \"object\",\n",
        "                \"properties\": {\n",
        "                    \"location\": {                         #파라미터 명\n",
        "                        \"type\": \"string\",                 #파라미터 타입\n",
        "                        \"description\": \"도시 또는 지역을 입력하세요, 예: 서울, 충청도\", #파라미터 설명 및 예시\n",
        "                    },\n",
        "                    \"unit\": {\n",
        "                        \"type\": \"string\",\n",
        "                        \"enum\": [\"celsius\", \"fahrenheit\"],\n",
        "                        \"description\": \"사용할 온도 단위를 입력하세요. 사용자의 위치에 따라 추론됩니다.\",\n",
        "                    },\n",
        "                },\n",
        "                \"required\": [\"location\", \"unit\"],         #필수 파라미터 지정\n",
        "            },\n",
        "        }\n",
        "    },\n",
        "    {\n",
        "        \"type\": \"function\",\n",
        "        \"function\": {\n",
        "            \"name\": \"get_n_day_weather_forecast\",\n",
        "            \"description\": \"현재 날짜부터 N일 간의 날씨 예보를 가져옵니다\",\n",
        "            \"parameters\": {\n",
        "                \"type\": \"object\",\n",
        "                \"properties\": {\n",
        "                    \"location\": {\n",
        "                        \"type\": \"string\",\n",
        "                        \"description\": \"도시 또는 지역을 입력하세요, 예: 서울, 충청도\",\n",
        "                    },\n",
        "                    \"unit\": {\n",
        "                        \"type\": \"string\",\n",
        "                        \"enum\": [\"celsius\", \"fahrenheit\"],\n",
        "                        \"description\": \"사용할 온도 단위를 입력하세요. 사용자의 위치에 따라 추론됩니다.\",\n",
        "                    },\n",
        "                    \"num_days\": {\n",
        "                        \"type\": \"integer\",\n",
        "                        \"description\": \"예보할 일수를 입력하세요\",\n",
        "                    }\n",
        "                },\n",
        "                \"required\": [\"location\", \"unit\", \"num_days\"]\n",
        "            },\n",
        "        }\n",
        "    },\n",
        "]\n",
        "\n",
        "#함수 구현 (원래는 날씨 API호출 해야하지만 편의상 랜덤하게 지정)\n",
        "import random\n",
        "\n",
        "def get_n_day_weather_forecast(location, unit, num_days):\n",
        "\n",
        "    weather_conditions = [\"맑음\", \"흐림\", \"비\", \"눈\", \"안개\", \"폭풍\"]\n",
        "    forecasts = []\n",
        "\n",
        "    for day in range(1, num_days+1):\n",
        "        weather = random.choice(weather_conditions)\n",
        "        temperature = round(random.uniform(-10, 35), 1) if unit == \"celsius\" else round(random.uniform(14, 95), 1)\n",
        "        forecasts.append({\"일차\": day, \"날씨\": weather, \"기온\": temperature, \"단위\": unit})\n",
        "\n",
        "    return str(forecasts)\n",
        "\n",
        "def get_current_weather(location, unit):\n",
        "\n",
        "    weather_conditions = [\"맑음\", \"흐림\", \"비\", \"눈\", \"안개\", \"폭풍\"]\n",
        "    weather = random.choice(weather_conditions)\n",
        "    temperature = round(random.uniform(-10, 35), 1) if unit == \"celsius\" else round(random.uniform(14, 95), 1)\n",
        "\n",
        "    return str({\"날씨\": weather, \"기온\": temperature, \"단위\": unit})\n",
        "\n",
        "# 예시 호출\n",
        "print(get_n_day_weather_forecast(\"서울\", \"celsius\", 5))\n",
        "print(get_current_weather(\"대전\", \"fahrenheit\"))\n"
      ]
    },
    {
      "cell_type": "markdown",
      "metadata": {
        "id": "inpUoy9B70CG"
      },
      "source": [
        "+ 프롬프트에 따라 어떤 Tool이 호출되는지 확인"
      ]
    },
    {
      "cell_type": "code",
      "execution_count": null,
      "metadata": {
        "colab": {
          "base_uri": "https://localhost:8080/"
        },
        "id": "U4r8UijEUBdP",
        "outputId": "5fd461e0-aa39-4a3b-fd38-6489f92daa9b"
      },
      "outputs": [],
      "source": [
        "\n",
        "messages = []\n",
        "\n",
        "messages.append({\"role\": \"system\", \"content\": \"사용할 함수의 값에 대해 추측하지 마세요. 사용자의 요청이 모호한 경우 명확히 물어보세요.\"})\n",
        "messages.append({\"role\": \"user\", \"content\": \"오늘 날씨 어때?\"})\n",
        "chat_response = chat_completion_request(\n",
        "    messages, tools=tools\n",
        ")\n",
        "assistant_message = chat_response.choices[0].message\n",
        "print(assistant_message)\n"
      ]
    },
    {
      "cell_type": "code",
      "execution_count": null,
      "metadata": {
        "colab": {
          "base_uri": "https://localhost:8080/"
        },
        "id": "BF5pav_rVf2y",
        "outputId": "857a88b7-70aa-4200-82c4-87f98fa8c6c9"
      },
      "outputs": [],
      "source": [
        "messages = []\n",
        "messages.append({\"role\": \"system\", \"content\": \"사용할 함수의 값에 대해 추측하지 마세요. 사용자의 요청이 모호한 경우 명확히 물어보세요.\"})\n",
        "messages.append({\"role\": \"user\", \"content\": \"서울 날씨 알고싶어.\"})\n",
        "chat_response = chat_completion_request(\n",
        "    messages, tools=tools\n",
        ")\n",
        "assistant_message = chat_response.choices[0].message\n",
        "messages.append(assistant_message)\n",
        "print(assistant_message)\n"
      ]
    },
    {
      "cell_type": "code",
      "execution_count": null,
      "metadata": {
        "colab": {
          "base_uri": "https://localhost:8080/"
        },
        "id": "8hhBhvygVq9T",
        "outputId": "2e7552ea-6a02-450d-e160-0b46755792bc"
      },
      "outputs": [],
      "source": [
        "messages = []\n",
        "messages.append({\"role\": \"system\", \"content\": \"사용할 함수의 값에 대해 추측하지 마세요. 사용자의 요청이 모호한 경우 명확히 물어보세요.\"})\n",
        "messages.append({\"role\": \"user\", \"content\": \"대전 5일간 날씨는 어때?\"})\n",
        "chat_response = chat_completion_request(\n",
        "    messages, tools=tools\n",
        ")\n",
        "assistant_message = chat_response.choices[0].message\n",
        "messages.append(assistant_message)\n",
        "print(assistant_message)\n"
      ]
    },
    {
      "cell_type": "markdown",
      "metadata": {
        "id": "M3BPlwcR78E6"
      },
      "source": [
        "+ 날씨 정보를 제공하는 챗봇"
      ]
    },
    {
      "cell_type": "code",
      "execution_count": null,
      "metadata": {
        "colab": {
          "base_uri": "https://localhost:8080/"
        },
        "id": "LJKUvzFOWmbq",
        "outputId": "6a0a1f3e-0510-4064-f762-f6e41a40defa"
      },
      "outputs": [],
      "source": [
        "from openai import OpenAI\n",
        "client = OpenAI(api_key=OPENAI_API_KEY)\n",
        "\n",
        "messages = [\n",
        "\n",
        "    {\"role\": \"system\", \"content\": \"당신은 사용자 질문에 답변하는 챗봇입니다.\"},\n",
        "    {\"role\": \"system\", \"content\": \"사용할 함수의 값에 대해 추측하지 마세요. 사용자의 요청이 모호한 경우 명확히 물어보세요.\"},\n",
        "    {\"role\": \"system\", \"content\": \"함수 호출이 아닌 답변의 경우 사용자가 읽기 쉽도록 마크다운 형태로 정리해서 출력하세요.\"},\n",
        "]\n",
        "\n",
        "\n",
        "# '종료' 입력 전까지 대화\n",
        "user_input = ''\n",
        "while True:\n",
        "    user_input = input(\"You: \")\n",
        "    if \"종료\" in user_input : break\n",
        "    messages.append({\"role\": \"user\", \"content\": user_input})\n",
        "\n",
        "    chat_response = chat_completion_request(messages, tools)\n",
        "\n",
        "    # 1단계: 함수 호출로 이어질 수 있는 내용을 포함한 프롬프트\n",
        "    # 이 경우, 모델은 사용자가 요청한 질문이 설정한 도구 설명에 부합되는지 확인 후 해당 함수 호출.\n",
        "    assistant_message = chat_response.choices[0].message\n",
        "    messages.append(assistant_message)\n",
        "\n",
        "    # 2단계: 모델의 응답에 도구 호출이 포함되어 있는지 확인합니다.\n",
        "    if assistant_message.tool_calls :\n",
        "        for msg in assistant_message.tool_calls :\n",
        "          # 3단계: 함수를 호출하고 결과를 얻습니다. 결과를 messages 리스트에 추가합니다.\n",
        "          if \"function\" in msg.type:\n",
        "              tool_id = msg.id  #함수 이름\n",
        "              function_call = msg.function #함수 정보 가져오기\n",
        "              function_name = function_call.name  #함수 이름\n",
        "              function_args = json.loads(function_call.arguments) #함수 파라미터\n",
        "\n",
        "              # 실제 함수 호출\n",
        "              if function_name == \"get_n_day_weather_forecast\":\n",
        "                  result = get_n_day_weather_forecast(**function_args)\n",
        "                  # print(\"get_n_day_weather_forecast 호출했습니다.\", result)\n",
        "\n",
        "              elif function_name == \"get_current_weather\":\n",
        "                  result = get_current_weather(**function_args)\n",
        "                  # print(\"get_current_weather 호출했습니다.\", result)\n",
        "              messages.append({\n",
        "                  \"role\": \"tool\",\n",
        "                  \"tool_call_id\": tool_id,\n",
        "                  \"name\": function_name,\n",
        "                  \"content\": result\n",
        "              })\n",
        "        # 4단계: 함수 응답이 추가된 messages 리스트로 GPT API를 호출합니다.\n",
        "        # tool_calls이 호출되면 반드시 해당 id에 대한 응답이 필요합니다.\n",
        "        chat_response = chat_completion_request(messages)\n",
        "\n",
        "    #결과 출력\n",
        "    assistant_reply = chat_response.choices[0].message.content\n",
        "    messages.append({\"role\": \"assistant\", \"content\": assistant_reply})\n",
        "    print(f\"Assistant: {assistant_reply}\")"
      ]
    },
    {
      "cell_type": "markdown",
      "metadata": {
        "id": "P8Gq3Ex5OLBO"
      },
      "source": [
        "---"
      ]
    }
  ],
  "metadata": {
    "colab": {
      "provenance": []
    },
    "kernelspec": {
      "display_name": "Python 3",
      "name": "python3"
    },
    "language_info": {
      "codemirror_mode": {
        "name": "ipython",
        "version": 3
      },
      "file_extension": ".py",
      "mimetype": "text/x-python",
      "name": "python",
      "nbconvert_exporter": "python",
      "pygments_lexer": "ipython3",
      "version": "3.9.13"
    }
  },
  "nbformat": 4,
  "nbformat_minor": 0
}
